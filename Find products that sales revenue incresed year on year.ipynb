{
 "cells": [
  {
   "cell_type": "code",
   "execution_count": 0,
   "metadata": {
    "application/vnd.databricks.v1+cell": {
     "cellMetadata": {
      "byteLimit": 2048000,
      "rowLimit": 10000
     },
     "inputWidgets": {},
     "nuid": "240943ac-7835-4cb9-8891-f808214e13e2",
     "showTitle": false,
     "title": ""
    }
   },
   "outputs": [
    {
     "output_type": "display_data",
     "data": {
      "text/html": [
       "\n",
       "            <div>\n",
       "                <p><b>SparkSession - hive</b></p>\n",
       "                \n",
       "        <div>\n",
       "            <p><b>SparkContext</b></p>\n",
       "\n",
       "            <p><a href=\"/?o=351737759155725#setting/sparkui/1231-045408-z5xeve2g/driver-6836292986386574830\">Spark UI</a></p>\n",
       "\n",
       "            <dl>\n",
       "              <dt>Version</dt>\n",
       "                <dd><code>v3.3.2</code></dd>\n",
       "              <dt>Master</dt>\n",
       "                <dd><code>local[8]</code></dd>\n",
       "              <dt>AppName</dt>\n",
       "                <dd><code>Databricks Shell</code></dd>\n",
       "            </dl>\n",
       "        </div>\n",
       "        \n",
       "            </div>\n",
       "        "
      ]
     },
     "metadata": {
      "application/vnd.databricks.v1+output": {
       "addedWidgets": {},
       "arguments": {},
       "data": "\n            <div>\n                <p><b>SparkSession - hive</b></p>\n                \n        <div>\n            <p><b>SparkContext</b></p>\n\n            <p><a href=\"/?o=351737759155725#setting/sparkui/1231-045408-z5xeve2g/driver-6836292986386574830\">Spark UI</a></p>\n\n            <dl>\n              <dt>Version</dt>\n                <dd><code>v3.3.2</code></dd>\n              <dt>Master</dt>\n                <dd><code>local[8]</code></dd>\n              <dt>AppName</dt>\n                <dd><code>Databricks Shell</code></dd>\n            </dl>\n        </div>\n        \n            </div>\n        ",
       "datasetInfos": [],
       "metadata": {},
       "removedWidgets": [],
       "textData": null,
       "type": "htmlSandbox"
      }
     },
     "output_type": "display_data"
    }
   ],
   "source": [
    "spark"
   ]
  },
  {
   "cell_type": "code",
   "execution_count": 0,
   "metadata": {
    "application/vnd.databricks.v1+cell": {
     "cellMetadata": {
      "byteLimit": 2048000,
      "rowLimit": 10000
     },
     "inputWidgets": {},
     "nuid": "675d7c90-f72c-4414-a6b6-eaa4b4c3df00",
     "showTitle": false,
     "title": ""
    }
   },
   "outputs": [
    {
     "output_type": "stream",
     "name": "stdout",
     "output_type": "stream",
     "text": [
      "+----------+------------+--------------+\n|product_id|product_name|      category|\n+----------+------------+--------------+\n|         1|     Laptops|   Electronics|\n|         2|       Jeans|      Clothing|\n|         3|       Chair|Home Appliance|\n+----------+------------+--------------+\n\n"
     ]
    }
   ],
   "source": [
    "product_data = [\n",
    "  (1, 'Laptops', 'Electronics'),\n",
    "  (2, 'Jeans', 'Clothing'),\n",
    "  (3, 'Chair', 'Home Appliance')\n",
    "]\n",
    "\n",
    "product_schema = ['product_id', 'product_name', 'category']\n",
    "\n",
    "product_df = spark.createDataFrame(data=product_data, schema=product_schema)\n",
    "\n",
    "product_df.show()"
   ]
  },
  {
   "cell_type": "code",
   "execution_count": 0,
   "metadata": {
    "application/vnd.databricks.v1+cell": {
     "cellMetadata": {
      "byteLimit": 2048000,
      "rowLimit": 10000
     },
     "inputWidgets": {},
     "nuid": "e0c90ad2-7afc-45ae-9e74-24c221dd00e5",
     "showTitle": false,
     "title": ""
    }
   },
   "outputs": [
    {
     "output_type": "stream",
     "name": "stdout",
     "output_type": "stream",
     "text": [
      "+----------+---------+-------------+\n|product_id|sale_year|sales_revenue|\n+----------+---------+-------------+\n|         1|     2019|         1000|\n|         1|     2020|         1200|\n|         1|     2021|         1100|\n|         2|     2019|          500|\n|         2|     2020|          600|\n|         2|     2021|          900|\n|         3|     2019|          300|\n|         3|     2020|          450|\n|         3|     2021|          400|\n+----------+---------+-------------+\n\n"
     ]
    }
   ],
   "source": [
    "sales_data = [\n",
    "  (1, 2019, 1000),\n",
    "  (1,2020, 1200),\n",
    "  (1,2021, 1100),\n",
    "  (2, 2019, 500),\n",
    "  (2,2020, 600),\n",
    "  (2,2021, 900),\n",
    "  (3, 2019, 300),\n",
    "  (3,2020, 450),\n",
    "  (3,2021, 400)\n",
    "]\n",
    "\n",
    "sales_schema = ['product_id', 'sale_year', 'sales_revenue']\n",
    "\n",
    "sales_df = spark.createDataFrame(data=sales_data, schema=sales_schema)\n",
    "\n",
    "sales_df.show()"
   ]
  },
  {
   "cell_type": "code",
   "execution_count": 0,
   "metadata": {
    "application/vnd.databricks.v1+cell": {
     "cellMetadata": {
      "byteLimit": 2048000,
      "rowLimit": 10000
     },
     "inputWidgets": {},
     "nuid": "24ffda74-0b9b-4f60-aeb3-ea7265636d4f",
     "showTitle": false,
     "title": ""
    }
   },
   "outputs": [],
   "source": [
    "# pyspark imports\n",
    "from pyspark.sql import Window\n",
    "from pyspark.sql.functions import col, min, lag"
   ]
  },
  {
   "cell_type": "code",
   "execution_count": 0,
   "metadata": {
    "application/vnd.databricks.v1+cell": {
     "cellMetadata": {
      "byteLimit": 2048000,
      "rowLimit": 10000
     },
     "inputWidgets": {},
     "nuid": "6a377e1a-aa21-4526-a71c-566eb8db3a24",
     "showTitle": false,
     "title": ""
    }
   },
   "outputs": [
    {
     "output_type": "stream",
     "name": "stdout",
     "output_type": "stream",
     "text": [
      "+----------+---------+-------------+---------------------+\n|product_id|sale_year|sales_revenue|previous_year_revenue|\n+----------+---------+-------------+---------------------+\n|         1|     2019|         1000|                 null|\n|         1|     2020|         1200|                 1000|\n|         1|     2021|         1100|                 1200|\n|         2|     2019|          500|                 null|\n|         2|     2020|          600|                  500|\n|         2|     2021|          900|                  600|\n|         3|     2019|          300|                 null|\n|         3|     2020|          450|                  300|\n|         3|     2021|          400|                  450|\n+----------+---------+-------------+---------------------+\n\n"
     ]
    }
   ],
   "source": [
    "# creating the previous_year_revenue column using the lag window function\n",
    "df = sales_df.withColumn(\"previous_year_revenue\", lag(col(\"sales_revenue\")).over(Window.partitionBy(col(\"product_id\")).orderBy(col(\"sale_year\"))))\n",
    "\n",
    "df.show()"
   ]
  },
  {
   "cell_type": "code",
   "execution_count": 0,
   "metadata": {
    "application/vnd.databricks.v1+cell": {
     "cellMetadata": {
      "byteLimit": 2048000,
      "rowLimit": 10000
     },
     "inputWidgets": {},
     "nuid": "18b791c6-7424-46e0-a4b6-7edf1d77b09b",
     "showTitle": false,
     "title": ""
    }
   },
   "outputs": [
    {
     "output_type": "stream",
     "name": "stdout",
     "output_type": "stream",
     "text": [
      "+----------+---------+-------------+---------------------+-------------+\n|product_id|sale_year|sales_revenue|previous_year_revenue|differenceYOY|\n+----------+---------+-------------+---------------------+-------------+\n|         1|     2019|         1000|                 null|         null|\n|         1|     2020|         1200|                 1000|          200|\n|         1|     2021|         1100|                 1200|         -100|\n|         2|     2019|          500|                 null|         null|\n|         2|     2020|          600|                  500|          100|\n|         2|     2021|          900|                  600|          300|\n|         3|     2019|          300|                 null|         null|\n|         3|     2020|          450|                  300|          150|\n|         3|     2021|          400|                  450|          -50|\n+----------+---------+-------------+---------------------+-------------+\n\n"
     ]
    }
   ],
   "source": [
    "# Find sales difference YOY \n",
    "revdiff_df = df.withColumn(\"differenceYOY\", col(\"sales_revenue\") - col(\"previous_year_revenue\"))\n",
    "\n",
    "revdiff_df.show()"
   ]
  },
  {
   "cell_type": "code",
   "execution_count": 0,
   "metadata": {
    "application/vnd.databricks.v1+cell": {
     "cellMetadata": {
      "byteLimit": 2048000,
      "rowLimit": 10000
     },
     "inputWidgets": {},
     "nuid": "3555f4d0-c525-41dd-a362-1dacb97eac20",
     "showTitle": false,
     "title": ""
    }
   },
   "outputs": [
    {
     "output_type": "stream",
     "name": "stdout",
     "output_type": "stream",
     "text": [
      "+----------+---------+\n|product_id|min_sales|\n+----------+---------+\n|         1|     -100|\n|         2|      100|\n|         3|      -50|\n+----------+---------+\n\n"
     ]
    }
   ],
   "source": [
    "#grouping the data on product_id and finding the min of revenue difference\n",
    "finaldf = revdiff_df.groupBy(col(\"product_id\")).agg(min(col(\"differenceYOY\")).alias(\"min_sales\"))\n",
    "\n",
    "finaldf.show()"
   ]
  },
  {
   "cell_type": "code",
   "execution_count": 0,
   "metadata": {
    "application/vnd.databricks.v1+cell": {
     "cellMetadata": {
      "byteLimit": 2048000,
      "rowLimit": 10000
     },
     "inputWidgets": {},
     "nuid": "88e483d9-70b6-49a8-bbc3-194b4a654997",
     "showTitle": false,
     "title": ""
    }
   },
   "outputs": [
    {
     "output_type": "stream",
     "name": "stdout",
     "output_type": "stream",
     "text": [
      "+----------+---------+\n|product_id|min_sales|\n+----------+---------+\n|         2|      100|\n+----------+---------+\n\n"
     ]
    }
   ],
   "source": [
    "# filtering the negative revenues\n",
    "finaldf = finaldf.filter(col(\"min_sales\")>0)\n",
    "finaldf.show()"
   ]
  },
  {
   "cell_type": "code",
   "execution_count": 0,
   "metadata": {
    "application/vnd.databricks.v1+cell": {
     "cellMetadata": {
      "byteLimit": 2048000,
      "rowLimit": 10000
     },
     "inputWidgets": {},
     "nuid": "c973bf66-1be0-4968-850e-a0a76b69e4ec",
     "showTitle": false,
     "title": ""
    }
   },
   "outputs": [
    {
     "output_type": "stream",
     "name": "stdout",
     "output_type": "stream",
     "text": [
      "+----------+------------+--------+\n|product_id|product_name|category|\n+----------+------------+--------+\n|         2|       Jeans|Clothing|\n+----------+------------+--------+\n\n"
     ]
    }
   ],
   "source": [
    "# Joining the product table to get product details based on product_id \n",
    "joindf = finaldf.join(product_df, on='product_id', how='inner').select(col(\"product_id\"),col(\"product_name\"),col(\"category\"))\n",
    "joindf.show()"
   ]
  }
 ],
 "metadata": {
  "application/vnd.databricks.v1+notebook": {
   "dashboards": [],
   "language": "python",
   "notebookMetadata": {
    "pythonIndentUnit": 2
   },
   "notebookName": "Find products that sales revenue incresed year on year",
   "widgets": {}
  }
 },
 "nbformat": 4,
 "nbformat_minor": 0
}

